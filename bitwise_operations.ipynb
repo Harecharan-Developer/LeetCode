{
 "cells": [
  {
   "cell_type": "markdown",
   "metadata": {},
   "source": [
    "### XOR"
   ]
  },
  {
   "cell_type": "code",
   "execution_count": null,
   "metadata": {},
   "outputs": [
    {
     "name": "stdout",
     "output_type": "stream",
     "text": [
      "[4, 3, 6, 4, 6, 7]\n",
      "[5, 2, 6, 5]\n",
      "[4, 3, 6, 4, 6, 7]\n"
     ]
    }
   ],
   "source": [
    "from typing import List\n",
    "from functools import reduce\n",
    "class Solution:\n",
    "    def getMaximumXor(self, nums: List[int], maximumBit: int) -> List[int]:\n",
    "        totalXor = 0\n",
    "        for num in nums:\n",
    "            totalXor ^= num\n",
    "        \n",
    "        allOnes = (1 << maximumBit) - 1\n",
    "        \n",
    "        answer = []\n",
    "        \n",
    "        for num in reversed(nums):\n",
    "            k = totalXor ^ allOnes\n",
    "            answer.append(k)\n",
    "            \n",
    "            totalXor ^= num\n",
    "        \n",
    "        return answer\n",
    "class Solution1:\n",
    "    def getMaximumXor(self, nums: List[int], maximumBit: int) -> List[int]:\n",
    "        answer=[]\n",
    "        allOnes = (1 << maximumBit) - 1\n",
    "        temp_xor = reduce(lambda x, y: x ^ y, nums)\n",
    "        while len(nums):            \n",
    "            answer.append(temp_xor^allOnes)\n",
    "            temp_xor ^= nums[-1]\n",
    "            nums.pop()\n",
    "\n",
    "\n",
    "        return answer\n",
    "\n",
    "\n",
    "# The xor property is that a^b=c, then a^c=b and b^c=a.\n",
    "# below is driver code for both\n",
    "\n",
    "if __name__ == \"__main__\":\n",
    "\n",
    "#     nums = [0,1,2,2,5,7]\n",
    "#     maximumBit = 3\n",
    "#     print(Solution().getMaximumXor(nums, maximumBit))\n",
    "    \n",
    "    nums = [0,1,2,2,5,7]\n",
    "    maximumBit = 3\n",
    "    print(Solution1().getMaximumXor(nums, maximumBit))\n",
    "    \n",
    "    nums = [2,3,4,7]\n",
    "    maximumBit = 3\n",
    "    print(Solution1().getMaximumXor(nums, maximumBit))\n",
    "\n",
    "    nums = [0,1,2,2,5,7]\n",
    "    maximumBit = 3\n",
    "    print(Solution1().getMaximumXor(nums, maximumBit))\n",
    "\n",
    "        \n",
    "            \n",
    "\n",
    "\n"
   ]
  },
  {
   "cell_type": "markdown",
   "metadata": {},
   "source": [
    "### AND\n"
   ]
  },
  {
   "cell_type": "code",
   "execution_count": null,
   "metadata": {},
   "outputs": [
    {
     "data": {
      "text/plain": [
       "4"
      ]
     },
     "execution_count": 28,
     "metadata": {},
     "output_type": "execute_result"
    }
   ],
   "source": [
    "''' \n",
    "question:3133. Minimum Array End    \n",
    "'''\n",
    "\n",
    "class Solution:\n",
    "    def minEnd(self, n: int, x: int) -> int:\n",
    "        n_1, ans, j=n-1, 0, 0\n",
    "        for i in range(56):\n",
    "            if (x>>i)&1: \n",
    "                ans|=(1<<i)\n",
    "            else:\n",
    "                if (n_1>>j)&1: ans|=(1<<i)\n",
    "                j+=1\n",
    "        return ans\n",
    "if __name__ == \"__main__\":\n",
    "    n = 5\n",
    "    x = 3\n",
    "    print(Solution().minEnd(n, x))\n",
    "    n = 4\n",
    "    x = 3\n",
    "    print(Solution().minEnd(n, x))\n",
    "    n = 5\n",
    "    x = 2\n",
    "    print(Solution().minEnd(n, x))\n",
    "    n = 5\n",
    "    x = 1\n",
    "    print(Solution().minEnd(n, x))\n",
    "    n = 5\n",
    "    x = 0\n",
    "    print(Solution().minEnd(n, x))\n",
    "    n = 5\n",
    "    x = 4\n",
    "    print(Solution().minEnd(n, x))\n",
    "\n"
   ]
  },
  {
   "cell_type": "code",
   "execution_count": null,
   "metadata": {},
   "outputs": [],
   "source": []
  }
 ],
 "metadata": {
  "kernelspec": {
   "display_name": "Python 3",
   "language": "python",
   "name": "python3"
  },
  "language_info": {
   "codemirror_mode": {
    "name": "ipython",
    "version": 3
   },
   "file_extension": ".py",
   "mimetype": "text/x-python",
   "name": "python",
   "nbconvert_exporter": "python",
   "pygments_lexer": "ipython3",
   "version": "3.11.9"
  }
 },
 "nbformat": 4,
 "nbformat_minor": 2
}

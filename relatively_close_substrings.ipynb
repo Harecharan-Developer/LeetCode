{
 "cells": [
  {
   "cell_type": "code",
   "execution_count": 1,
   "metadata": {},
   "outputs": [
    {
     "name": "stdout",
     "output_type": "stream",
     "text": [
      "True\n"
     ]
    }
   ],
   "source": [
    "class Solution:\n",
    "    def closeStrings(self, word1: str, word2: str) -> bool:\n",
    "        l1, l2 = [], []\n",
    "        \n",
    "        for i in set(word1):\n",
    "            l1.append(word1.count(i))\n",
    "            l2.append(word2.count(i))\n",
    "\n",
    "        l1.sort()\n",
    "        l2.sort()\n",
    "\n",
    "        return l1 == l2\n",
    "        # Driver code\n",
    "if __name__ == \"__main__\":\n",
    "    solution = Solution()\n",
    "    word1 = \"abc\"\n",
    "    word2 = \"cba\"\n",
    "    result = solution.closeStrings(word1, word2)\n",
    "    print(result)"
   ]
  },
  {
   "cell_type": "code",
   "execution_count": 2,
   "metadata": {},
   "outputs": [
    {
     "name": "stdout",
     "output_type": "stream",
     "text": [
      "True\n",
      "False\n",
      "True\n"
     ]
    }
   ],
   "source": [
    "from collections import Counter\n",
    "from typing import List\n",
    "\n",
    "class Solution:\n",
    "    def closeStrings(self, word1: str, word2: str) -> bool:\n",
    "        if len(word1) != len(word2):\n",
    "            return False \n",
    "        \n",
    "        set_word1 = set(word1)\n",
    "        set_word2 = set(word2)\n",
    "        \n",
    "        if set_word1 != set_word2:\n",
    "            return False\n",
    "        \n",
    "        # Count the frequency of each character in both words\n",
    "        counter1 = Counter(word1)\n",
    "        counter2 = Counter(word2)\n",
    "        \n",
    "        # Check if the sorted frequency values are the same\n",
    "        return sorted(counter1.values()) == sorted(counter2.values())\n",
    "\n",
    "# Example usage:\n",
    "solution = Solution()\n",
    "print(solution.closeStrings(\"abc\", \"bca\"))  # Output: true\n",
    "print(solution.closeStrings(\"a\", \"aa\"))     # Output: false\n",
    "print(solution.closeStrings(\"cabbba\", \"abbccc\"))  # Output: true\n"
   ]
  }
 ],
 "metadata": {
  "kernelspec": {
   "display_name": "Python 3",
   "language": "python",
   "name": "python3"
  },
  "language_info": {
   "codemirror_mode": {
    "name": "ipython",
    "version": 3
   },
   "file_extension": ".py",
   "mimetype": "text/x-python",
   "name": "python",
   "nbconvert_exporter": "python",
   "pygments_lexer": "ipython3",
   "version": "3.11.9"
  }
 },
 "nbformat": 4,
 "nbformat_minor": 2
}

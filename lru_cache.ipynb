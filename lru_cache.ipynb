{
 "cells": [
  {
   "cell_type": "code",
   "execution_count": null,
   "metadata": {},
   "outputs": [
    {
     "name": "stdout",
     "output_type": "stream",
     "text": [
      "27\n",
      "21344\n",
      "{0: 1, 1: 1, 2: 1, 3: 1, 5: 27, 4: 22, 6: 32, 12: 114, 9: 68, 18: 190, 37: 489, 13: 119, 27: 322, 55: 787, 111: 1831, 10: 78, 20: 210, 41: 534, 83: 1271, 166: 2888, 333: 6384, 7: 37, 15: 139, 31: 372, 62: 892, 125: 2051, 250: 4572, 500: 9960, 1000: 21344}\n"
     ]
    }
   ],
   "source": [
    "from functools import lru_cache\n",
    "\n",
    "MOD = 10**9 + 7\n",
    "memo={i:1 for i in range(4)}\n",
    "def T(n):\n",
    "    if n < 4:\n",
    "        return 1\n",
    "    \n",
    "    if n in memo:\n",
    "        return memo[n]\n",
    "    memo[n] = (T(n // 3) + T(n // 2) + 5 * n) % MOD\n",
    "    return memo[n]\n",
    "\n",
    "# Example usage\n",
    "print(T(5))    # Expected output based on computation\n",
    "print(T(1000))  # Efficient with caching\n",
    "print(memo)\n",
    "\n"
   ]
  },
  {
   "cell_type": "code",
   "execution_count": null,
   "metadata": {},
   "outputs": [],
   "source": [
    "from functools import lru_cache\n",
    "\n",
    "MOD = 10**9 + 7\n",
    "@lru_cache(maxsize=None)\n",
    "def T(n):\n",
    "    if n < 4:\n",
    "        return 1\n",
    "    \n",
    "    return (T(n // 3) + T(n // 2) + 5 * n) % MOD\n",
    "\n",
    "\n",
    "# Example usage\n",
    "print(T(5))    # Expected output based on computation\n",
    "print(T(1000))  # Efficient with caching\n",
    "print(memo)\n",
    "\n"
   ]
  }
 ],
 "metadata": {
  "kernelspec": {
   "display_name": "Python 3",
   "language": "python",
   "name": "python3"
  },
  "language_info": {
   "codemirror_mode": {
    "name": "ipython",
    "version": 3
   },
   "file_extension": ".py",
   "mimetype": "text/x-python",
   "name": "python",
   "nbconvert_exporter": "python",
   "pygments_lexer": "ipython3",
   "version": "3.11.9"
  }
 },
 "nbformat": 4,
 "nbformat_minor": 2
}

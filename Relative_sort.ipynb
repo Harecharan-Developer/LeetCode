{
 "cells": [
  {
   "cell_type": "code",
   "execution_count": 2,
   "metadata": {},
   "outputs": [],
   "source": [
    "from typing_extensions import List\n",
    "class Solution:\n",
    "    def relativeSortArray(self, arr1: List[int], arr2: List[int]) -> List[int]:\n",
    "        hash_map = {}\n",
    "        for i in range(len(arr2)):\n",
    "            hash_map[arr2[i]] = i\n",
    "        \n",
    "        for i in range (len(arr1)):\n",
    "            if arr1[i] not in hash_map:\n",
    "                hash_map[arr1[i]] = 1000 + arr1[i]\n",
    "        arr1.sort(key = lambda x: hash_map[x])\n",
    "        return arr1\n",
    "\n",
    "## dude is just setting priority for all those values in arr1 which are not in arr2\n",
    "## what he does is it must be inorder given in arr2 , so , for num in arr2 he gives \n",
    "## priority as index of num in arr2 and for num not in arr2 he gives priority as 1000 + num, and so they come after \n",
    "## the nums in arr2 in sorted array"
   ]
  },
  {
   "cell_type": "code",
   "execution_count": 7,
   "metadata": {},
   "outputs": [],
   "source": [
    "class Solution:\n",
    "    def relativeSortArray(self, arr1: List[int], arr2: List[int]) -> List[int]:\n",
    "        bucket_arr_dict={}\n",
    "        temp_result=[]\n",
    "\n",
    "        for num in arr2:\n",
    "            bucket_arr_dict[num]=[]\n",
    "        print(\"bucketss\" ,bucket_arr_dict)\n",
    "        for num in arr1:\n",
    "            if num in bucket_arr_dict:\n",
    "                bucket_arr_dict[num].append(num)\n",
    "            else:\n",
    "                temp_result.append(num)\n",
    "        print(\"bucketss\" ,bucket_arr_dict)\n",
    "        print(temp_result)\n",
    "        temp_result.sort()\n",
    "        print(temp_result)\n",
    "\n",
    "        result=[]\n",
    "        for buckets in bucket_arr_dict:\n",
    "            result.extend(bucket_arr_dict[buckets])\n",
    "        result.extend(temp_result)\n",
    "\n",
    "        return result"
   ]
  },
  {
   "cell_type": "code",
   "execution_count": 9,
   "metadata": {},
   "outputs": [
    {
     "name": "stdout",
     "output_type": "stream",
     "text": [
      "bucketss {2: [], 1: [], 4: [], 3: [], 9: [], 6: []}\n",
      "bucketss {2: [2, 2, 2], 1: [1], 4: [4], 3: [3, 3], 9: [9], 6: [6]}\n",
      "[7, 19]\n",
      "[7, 19]\n",
      "Result: [2, 2, 2, 1, 4, 3, 3, 9, 6, 7, 19]\n"
     ]
    }
   ],
   "source": [
    "def menu_driver():\n",
    "    # Create an instance of the Solution class\n",
    "    solution = Solution()\n",
    "\n",
    "    # Get user input for arr1 and arr2\n",
    "    arr1 = [2,3,1,3,2,4,6,7,9,2,19]\n",
    "    arr2 = [2,1,4,3,9,6]\n",
    "\n",
    "    # Convert the input to integers\n",
    "    arr1 = [int(num) for num in arr1]\n",
    "    arr2 = [int(num) for num in arr2]\n",
    "\n",
    "    # Call the relativeSortArray method and print the result\n",
    "    result = solution.relativeSortArray(arr1, arr2)\n",
    "    print(\"Result:\", result)\n",
    "\n",
    "# Call the menu_driver function\n",
    "menu_driver()"
   ]
  }
 ],
 "metadata": {
  "kernelspec": {
   "display_name": "Python 3",
   "language": "python",
   "name": "python3"
  },
  "language_info": {
   "codemirror_mode": {
    "name": "ipython",
    "version": 3
   },
   "file_extension": ".py",
   "mimetype": "text/x-python",
   "name": "python",
   "nbconvert_exporter": "python",
   "pygments_lexer": "ipython3",
   "version": "3.11.9"
  }
 },
 "nbformat": 4,
 "nbformat_minor": 2
}

{
 "cells": [
  {
   "cell_type": "code",
   "execution_count": 5,
   "metadata": {},
   "outputs": [
    {
     "name": "stdout",
     "output_type": "stream",
     "text": [
      "Name: Alice\n",
      "Updated dictionary: {'name': 'Alice', 'age': 25, 'city': 'New York', 'email': 'alice@example.com'}\n",
      "Updated age: 26\n",
      "Dictionary after deletion: {'name': 'Alice', 'age': 26, 'email': 'alice@example.com'}\n",
      "Key: name, Value: Alice\n",
      "Key: age, Value: 26\n",
      "Key: email, Value: alice@example.com\n",
      "Value: Alice\n",
      "Value: 26\n",
      "Value: alice@example.com\n",
      "Key: name, Value: Alice\n",
      "Key: age, Value: 26\n",
      "Key: email, Value: alice@example.com\n",
      "Name key exists in the dictionary\n",
      "Length of dictionary: 3\n",
      "Dictionary after clearing: {}\n",
      "Dictionary is deleted\n",
      "{0: 0, 1: 1, 2: 4, 3: 9, 4: 16}\n",
      "{'h': 1, 'e': 1, 'l': 2, 'o': 1}\n",
      "Counter({'l': 2, 'h': 1, 'e': 1, 'o': 1})\n",
      "defaultdict(<class 'int'>, {'h': 1, 'e': 1, 'l': 2, 'o': 1})\n",
      "unsortted dictionary {'a': 5, 'c': 7, 'b': 3, 'd': 2}\n",
      "{'c': 7, 'a': 5, 'b': 3, 'd': 2}\n",
      "5\n",
      "None\n",
      "-1\n",
      "a\n"
     ]
    }
   ],
   "source": [
    "# Creating a dictionary\n",
    "my_dict = {\n",
    "    'name': 'Alice',\n",
    "    'age': 25,\n",
    "    'city': 'New York'\n",
    "}\n",
    "\n",
    "# Accessing values\n",
    "name = my_dict['name']\n",
    "# print(f\"Name: {name}\")\n",
    "\n",
    "# Adding a new key-value pair\n",
    "my_dict['email'] = 'alice@example.com'\n",
    "# print(f\"Updated dictionary: {my_dict}\")\n",
    "\n",
    "# Updating an existing value\n",
    "my_dict['age'] = 26\n",
    "# print(f\"Updated age: {my_dict['age']}\")\n",
    "\n",
    "# Removing a key-value pair\n",
    "del my_dict['city']\n",
    "# print(f\"Dictionary after deletion: {my_dict}\")\n",
    "\n",
    "# Iterating through keys\n",
    "for key in my_dict:\n",
    "    # print(f\"Key: {key}, Value: {my_dict[key]}\")\n",
    "\n",
    "# Iterating through values\n",
    "for value in my_dict.values():\n",
    "    # print(f\"Value: {value}\")\n",
    "\n",
    "# Iterating through key-value pairs\n",
    "for key, value in my_dict.items():\n",
    "    # print(f\"Key: {key}, Value: {value}\")\n",
    "\n",
    "# Checking if a key exists\n",
    "if 'name' in my_dict:\n",
    "    print(\"Name key exists in the dictionary\")\n",
    "\n",
    "# Getting the length of the dictionary\n",
    "length = len(my_dict)\n",
    "print(f\"Length of dictionary: {length}\")\n",
    "\n",
    "# Clearing all items in the dictionary\n",
    "my_dict.clear()\n",
    "print(f\"Dictionary after clearing: {my_dict}\")\n",
    "\n",
    "# Deleting the dictionary\n",
    "del my_dict\n",
    "try:\n",
    "    print(my_dict)\n",
    "except NameError:   \n",
    "    print(\"Dictionary is deleted\")\n",
    "\n",
    "#using dictionary comprehension\n",
    "my_dict = {x: x*x for x in range(5)}\n",
    "print(my_dict)\n",
    "del my_dict\n"
   ]
  },
  {
   "cell_type": "code",
   "execution_count": null,
   "metadata": {},
   "outputs": [
    {
     "name": "stdout",
     "output_type": "stream",
     "text": [
      "{'h': 1, 'e': 1, 'l': 2, 'o': 1}\n",
      "Counter({'l': 2, 'h': 1, 'e': 1, 'o': 1})\n",
      "defaultdict(<class 'int'>, {'h': 1, 'e': 1, 'l': 2, 'o': 1})\n",
      "unsortted dictionary {'a': 5, 'c': 7, 'b': 3, 'd': 2}\n",
      "{'c': 7, 'a': 5, 'b': 3, 'd': 2}\n",
      "5\n",
      "None\n",
      "-1\n",
      "a 5\n",
      "d 2\n",
      "{'a': 5, 'c': 7, 'b': 3, 'd': 2, 'e': 5, 'f': 7, 'g': 3, 'h': 2}\n"
     ]
    }
   ],
   "source": [
    "\n",
    "#using dictionary to solve frequency problem\n",
    "def frequency(str):\n",
    "    freq = {}\n",
    "    for item in str:\n",
    "        if item in freq:\n",
    "            freq[item] += 1\n",
    "        else:\n",
    "            freq[item] = 1\n",
    "    return freq\n",
    "print(frequency(\"hello\"))\n",
    "\n",
    "#using counter to solve frequency problem\n",
    "from collections import Counter\n",
    "def frequency(str):\n",
    "    return Counter(str)\n",
    "print(frequency(\"hello\"))\n",
    "\n",
    "#using defaultdict to solve frequency problem\n",
    "from collections import defaultdict\n",
    "def frequency(str):\n",
    "    freq = defaultdict(int)\n",
    "    for item in str:\n",
    "        freq[item] += 1\n",
    "    return freq\n",
    "print(frequency(\"hello\"))\n",
    "\n",
    "#sorting in dictionary\n",
    "my_dict = {'a': 5,  'c': 7 ,'b': 3, 'd': 2}\n",
    "print(\"unsortted dictionary\",my_dict)\n",
    "sorted_dict = dict(sorted(my_dict.items(), key=lambda x: x[1],reverse=True))\n",
    "print(sorted_dict)\n",
    "\n",
    "#additional functionalities like dict.get \n",
    "my_dict = {'a': 5,  'c': 7 ,'b': 3, 'd': 2}\n",
    "print(my_dict.get('a'))\n",
    "print(my_dict.get('z'))\n",
    "print(my_dict.get('z',-1))\n",
    "\n",
    "#how to get first and last  key value pair in a dict without converting to a list\n",
    "my_dict = {'a': 5,  'c': 7 ,'b': 3, 'd': 2}\n",
    "first_key = next(iter(my_dict))\n",
    "first_value = my_dict[first_key]\n",
    "print(first_key,first_value)\n",
    "last_key = next(reversed(my_dict))  \n",
    "last_value = my_dict[last_key]\n",
    "print(last_key,last_value)\n",
    "\n",
    "#how to get first and last  key value pair in a dict \n",
    "my_dict = {'a': 5,  'c': 7 ,'b': 3, 'd': 2}\n",
    "first_key = list(my_dict.keys())[0]\n",
    "first_value = list(my_dict.values())[0]\n",
    "\n",
    "#combine two dictionaries\n",
    "dict1 = {'a': 5,  'c': 7 ,'b': 3, 'd': 2}\n",
    "dict2 = {'e': 5,  'f': 7 ,'g': 3, 'h': 2}\n",
    "dict1.update(dict2)\n",
    "\n",
    "#how to merge two dictionaries\n",
    "dict1 = {'a': 5,  'c': 7 ,'b': 3, 'd': 2}\n",
    "dict2 = {'e': 5,  'f': 7 ,'g': 3, 'h': 2}\n",
    "dict3 = {**dict1,**dict2}\n",
    "print(dict3)\n",
    "\n",
    "#how to merge two dictionaries\n",
    "dict1 = {'a': 5,  'c': 7 ,'b': 3, 'd': 2}\n",
    "dict2 = {'e': 5,  'f': 7 ,'g': 3, 'h': 2}\n",
    "dict3 = dict1.copy()\n",
    "dict3.update(dict2)\n",
    "print(dict3)\n",
    "\n",
    "dict1.get(ch,0)+1\n",
    "\n"
   ]
  },
  {
   "cell_type": "code",
   "execution_count": 14,
   "metadata": {},
   "outputs": [
    {
     "name": "stdout",
     "output_type": "stream",
     "text": [
      "{1, 2, 3, 4, 5, 6, 7, 8}\n",
      "{4, 5}\n",
      "{1, 2, 3}\n",
      "{1, 2, 3, 6, 7, 8}\n",
      "True\n",
      "True\n",
      "True\n",
      "True\n"
     ]
    }
   ],
   "source": [
    "#set operations\n",
    "#creating a set\n",
    "my_set = {1,2,3,4,5}\n",
    "# print(my_set)\n",
    "\n",
    "#adding an element to a set\n",
    "my_set.add(6)\n",
    "# print(my_set)\n",
    "\n",
    "#removing an element from a set\n",
    "my_set.remove(6)\n",
    "my_set.discard(5)\n",
    "# print(my_set)\n",
    "\n",
    "#union of a set\n",
    "set1 = {1,2,3,4,5}\n",
    "set2 = {4,5,6,7,8}\n",
    "union_set = set1.union(set2)\n",
    "print(union_set)\n",
    "\n",
    "#intersection of a set\n",
    "intersection_set = set1.intersection(set2)\n",
    "print(intersection_set)\n",
    "\n",
    "#difference of a set\n",
    "difference_set = set1.difference(set2)\n",
    "print(difference_set)\n",
    "\n",
    "#symmetric difference of a set\n",
    "symmetric_difference_set = set1.symmetric_difference(set2)\n",
    "print(symmetric_difference_set)\n",
    "\n",
    "#check if a set is a subset of another set\n",
    "subset = {1,2,3}\n",
    "print(subset.issubset(set1))\n",
    "\n",
    "#check if a set is a superset of another set\n",
    "superset = {1,2,3,4,5,6}\n",
    "print(superset.issuperset(set1))\n",
    "\n",
    "#check if two sets are disjoint\n",
    "set3 = {1,2,3}\n",
    "set4 = {4,5,6}\n",
    "print(set3.isdisjoint(set4))\n",
    "\n",
    "#check if two sets are equal\n",
    "set5 = {1,2,3}\n",
    "set6 = {3,2,1}\n",
    "print(set5 == set6)\n",
    "\n",
    "\n",
    "\n"
   ]
  },
  {
   "cell_type": "code",
   "execution_count": 23,
   "metadata": {},
   "outputs": [
    {
     "ename": "TypeError",
     "evalue": "unhashable type: 'list'",
     "output_type": "error",
     "traceback": [
      "\u001b[1;31m---------------------------------------------------------------------------\u001b[0m",
      "\u001b[1;31mTypeError\u001b[0m                                 Traceback (most recent call last)",
      "Cell \u001b[1;32mIn[23], line 33\u001b[0m\n\u001b[0;32m     30\u001b[0m arr \u001b[38;5;241m=\u001b[39m [[\u001b[38;5;241m1\u001b[39m, \u001b[38;5;241m3\u001b[39m], [\u001b[38;5;241m2\u001b[39m, \u001b[38;5;241m4\u001b[39m], [\u001b[38;5;241m6\u001b[39m, \u001b[38;5;241m8\u001b[39m], [\u001b[38;5;241m9\u001b[39m, \u001b[38;5;241m10\u001b[39m]]\n\u001b[0;32m     32\u001b[0m \u001b[38;5;66;03m# Get the new size of the array after merging\u001b[39;00m\n\u001b[1;32m---> 33\u001b[0m newSize \u001b[38;5;241m=\u001b[39m \u001b[43mmergeOverlap\u001b[49m\u001b[43m(\u001b[49m\u001b[43marr\u001b[49m\u001b[43m)\u001b[49m\n\u001b[0;32m     35\u001b[0m \u001b[38;5;28mprint\u001b[39m(newSize)\n",
      "Cell \u001b[1;32mIn[23], line 27\u001b[0m, in \u001b[0;36mmergeOverlap\u001b[1;34m(arr)\u001b[0m\n\u001b[0;32m     24\u001b[0m         arr[resIdx] \u001b[38;5;241m=\u001b[39m arr[i]\n\u001b[0;32m     26\u001b[0m \u001b[38;5;66;03m# Returns size of the merged intervals\u001b[39;00m\n\u001b[1;32m---> 27\u001b[0m \u001b[38;5;28;01mreturn\u001b[39;00m \u001b[38;5;28;43mset\u001b[39;49m\u001b[43m(\u001b[49m\u001b[43marr\u001b[49m\u001b[43m)\u001b[49m\n",
      "\u001b[1;31mTypeError\u001b[0m: unhashable type: 'list'"
     ]
    }
   ],
   "source": [
    "# Python Code to Merge Overlapping Intervals in-place\n",
    "\n",
    "# Merge overlapping intervals in-place. We return\n",
    "# modified size of the array arr.\n",
    "def mergeOverlap(arr):\n",
    "    \n",
    "    # Sort intervals based on start values\n",
    "    arr.sort()\n",
    "\n",
    "    # Index of the last merged \n",
    "    resIdx = 0\n",
    "\n",
    "    for i in range(1, len(arr)):\n",
    "        \n",
    "        # If current interval overlaps with the \n",
    "        # last merged interval\n",
    "        if arr[resIdx][1] >= arr[i][0]:           \n",
    "            arr[resIdx][1] = max(arr[resIdx][1], arr[i][1])\n",
    "\n",
    "\n",
    "        # Move to the next interval\n",
    "        else:            \n",
    "            resIdx += 1\n",
    "            arr[resIdx] = arr[i]\n",
    "\n",
    "    # Returns size of the merged intervals\n",
    "    return set(arr)\n",
    "\n",
    "if __name__ == \"__main__\":\n",
    "    arr = [[1, 3], [2, 4], [6, 8], [9, 10]]\n",
    "    \n",
    "    # Get the new size of the array after merging\n",
    "    newSize = mergeOverlap(arr)\n",
    "\n",
    "    print(newSize)\n"
   ]
  },
  {
   "cell_type": "code",
   "execution_count": 33,
   "metadata": {},
   "outputs": [
    {
     "name": "stdout",
     "output_type": "stream",
     "text": [
      "{1, 2, 3, 4, 5, 6, 7, 8, 9, 10}\n"
     ]
    }
   ],
   "source": [
    "list11=[1,2,3,4,5,6,7,8,9,10]\n",
    "print(set(list11))"
   ]
  },
  {
   "cell_type": "code",
   "execution_count": 35,
   "metadata": {},
   "outputs": [
    {
     "name": "stdout",
     "output_type": "stream",
     "text": [
      "Original Array\n",
      "1 2 3 4 5 6 7 \n",
      "Modified Array\n",
      "7 1 6 2 5 3 4 "
     ]
    }
   ],
   "source": [
    "# Python program to rearrange an array in minimum\n",
    "# maximum form\n",
    "\n",
    "# Function to rearrange the array elements alternately\n",
    "def rearrange(arr):\n",
    "    l=0\n",
    "    r=len(arr)-1\n",
    "\n",
    "    while l<r:\n",
    "        ins_val=arr.pop(-1)\n",
    "        arr.insert(l,ins_val)\n",
    "        l+=2\n",
    "    return arr\n",
    "\n",
    "\n",
    "# Driver code\n",
    "arr = [1, 2, 3, 4, 5, 6,7]\n",
    "n = len(arr)\n",
    "\n",
    "print(\"Original Array\")\n",
    "for x in arr:\n",
    "    print(x, end=\" \")\n",
    "\n",
    "rearrange(arr)\n",
    "\n",
    "print(\"\\nModified Array\")\n",
    "for x in arr:\n",
    "    print(x, end=\" \")\n"
   ]
  },
  {
   "cell_type": "code",
   "execution_count": 42,
   "metadata": {},
   "outputs": [
    {
     "name": "stdout",
     "output_type": "stream",
     "text": [
      "11.0\n"
     ]
    }
   ],
   "source": [
    "def func(arr):\n",
    "    l=len(arr)\n",
    "    actual_sum=(l-1)*l/2\n",
    "    observed_sum=sum(arr)\n",
    "    return abs(actual_sum-observed_sum)\n",
    "arr=[1,2,3,4,5,6,7,8,9,10,11]\n",
    "print(func(arr))\n",
    "\n"
   ]
  },
  {
   "cell_type": "code",
   "execution_count": 43,
   "metadata": {},
   "outputs": [
    {
     "ename": "NameError",
     "evalue": "name 'dic' is not defined",
     "output_type": "error",
     "traceback": [
      "\u001b[1;31m---------------------------------------------------------------------------\u001b[0m",
      "\u001b[1;31mNameError\u001b[0m                                 Traceback (most recent call last)",
      "Cell \u001b[1;32mIn[43], line 1\u001b[0m\n\u001b[1;32m----> 1\u001b[0m \u001b[43mdic\u001b[49m\n",
      "\u001b[1;31mNameError\u001b[0m: name 'dic' is not defined"
     ]
    }
   ],
   "source": [
    "dic"
   ]
  },
  {
   "cell_type": "code",
   "execution_count": 45,
   "metadata": {},
   "outputs": [
    {
     "name": "stdout",
     "output_type": "stream",
     "text": [
      "yes\n"
     ]
    }
   ],
   "source": [
    "str1='geeksforgeeks'\n",
    "str2='keegsgeekfors'\n",
    "dict1={i:str1.count(i) for i in str1}\n",
    "dict2={i:str2.count(i) for i in str2}\n",
    "if dict1==dict2:\n",
    "    print('yes')"
   ]
  }
 ],
 "metadata": {
  "kernelspec": {
   "display_name": "Python 3",
   "language": "python",
   "name": "python3"
  },
  "language_info": {
   "codemirror_mode": {
    "name": "ipython",
    "version": 3
   },
   "file_extension": ".py",
   "mimetype": "text/x-python",
   "name": "python",
   "nbconvert_exporter": "python",
   "pygments_lexer": "ipython3",
   "version": "3.11.9"
  }
 },
 "nbformat": 4,
 "nbformat_minor": 2
}
